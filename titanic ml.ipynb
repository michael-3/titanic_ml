{
 "cells": [
  {
   "cell_type": "code",
   "execution_count": 243,
   "metadata": {
    "collapsed": true
   },
   "outputs": [],
   "source": [
    "import pandas as pd\n",
    "import numpy as np"
   ]
  },
  {
   "cell_type": "code",
   "execution_count": 244,
   "metadata": {
    "collapsed": true
   },
   "outputs": [],
   "source": [
    "from operator import itemgetter\n",
    "def report(grid_scores, n_top=3):\n",
    "    top_scores = sorted(grid_scores, key=itemgetter(1), reverse=True)[:n_top]\n",
    "    for i, score in enumerate(top_scores):\n",
    "        print(\"Model with rank: {0}\".format(i + 1))\n",
    "        print(\"Mean validation score: {0:.3f} (std: {1:.3f})\".format(\n",
    "              score.mean_validation_score,\n",
    "              np.std(score.cv_validation_scores)))\n",
    "        print(\"Parameters: {0}\".format(score.parameters))\n",
    "        print(\"\")"
   ]
  },
  {
   "cell_type": "code",
   "execution_count": 245,
   "metadata": {
    "collapsed": true
   },
   "outputs": [],
   "source": [
    "raw_train_data = pd.read_csv(\"train.csv\")\n",
    "raw_test_data = pd.read_csv(\"test.csv\")\n",
    "raw_data = raw_train_data.append(raw_test_data)\n",
    "#Too many missing values from these features\n",
    "raw_data.drop([\"Ticket\", \"Cabin\"], axis=1, inplace=True)"
   ]
  },
  {
   "cell_type": "code",
   "execution_count": 246,
   "metadata": {
    "collapsed": true
   },
   "outputs": [],
   "source": [
    "#Extract the titles from the names of passengers as a feature\n",
    "import re\n",
    "names = raw_data[\"Name\"].apply(lambda x : re.split('[,.]',x))\n",
    "surnames = names.apply(lambda x : x[0].strip()).values\n",
    "titles = names.apply(lambda x : x[1].strip()).values\n",
    "raw_data[\"Title\"] = titles\n",
    "\n",
    "#Group similar titles together\n",
    "#Miss and Master are Child\n",
    "#Rev, Dr, Col, Major, Capt, Don, Jonkheer, Sir are Sir\n",
    "#Ms, Mlle, Mme, the Countess, Lady, Dona are Lady\n",
    "\n",
    "raw_data.loc[raw_data[\"Title\"].apply(lambda x : x in [\"Capt\", \"Don\", \"Sir\", \"Major\", \"Rev\", \"Dr\", \"Col\", \"Jonkheer\"]), \"Title\"] = \"Sir\"\n",
    "raw_data.loc[raw_data[\"Title\"].apply(lambda x : x in [\"Lady\", \"the Countess\", \"Dona\", \"Mlle\", \"Mme\", \"Ms\"]), \"Title\"] = \"Lady\"\n",
    "raw_data.loc[raw_data[\"Title\"].apply(lambda x : x in [\"Master\", \"Miss\"]), \"Title\"] = \"Child\""
   ]
  },
  {
   "cell_type": "code",
   "execution_count": 247,
   "metadata": {
    "collapsed": false
   },
   "outputs": [],
   "source": [
    "#Impute an unknown age by taking the median age of passengers with the same title\n",
    "raw_data.loc[(raw_data[\"Age\"].isnull() == True) & (raw_data[\"Title\"] == \"Lady\"), \"Age\"] = raw_data.loc[raw_data[\"Title\"] == \"Lady\", \"Age\"].median() \n",
    "raw_data.loc[(raw_data[\"Age\"].isnull() == True) & (raw_data[\"Title\"] == \"Mr\"), \"Age\"] = raw_data.loc[raw_data[\"Title\"] == \"Mr\", \"Age\"].median()\n",
    "raw_data.loc[(raw_data[\"Age\"].isnull() == True) & (raw_data[\"Title\"] == \"Child\"), \"Age\"] = raw_data.loc[raw_data[\"Title\"] == \"Child\", \"Age\"].median()\n",
    "raw_data.loc[(raw_data[\"Age\"].isnull() == True) & (raw_data[\"Title\"] == \"Mrs\"), \"Age\"] = raw_data.loc[raw_data[\"Title\"] == \"Mrs\", \"Age\"].median()\n",
    "raw_data.loc[(raw_data[\"Age\"].isnull() == True) & (raw_data[\"Title\"] == \"Sir\"), \"Age\"] = raw_data.loc[raw_data[\"Title\"] == \"Sir\", \"Age\"].median()"
   ]
  },
  {
   "cell_type": "code",
   "execution_count": 248,
   "metadata": {
    "collapsed": false
   },
   "outputs": [],
   "source": [
    "#Impute an unknown embarkment point by the taking the most common embarkment point for passengers with the same class\n",
    "raw_data.loc[(raw_data[\"Embarked\"].isnull() == True), \"Embarked\"] = raw_data.loc[raw_data[\"Pclass\"] == 1,  \"Embarked\"].value_counts().index[1]"
   ]
  },
  {
   "cell_type": "code",
   "execution_count": 249,
   "metadata": {
    "collapsed": true
   },
   "outputs": [],
   "source": [
    "#Impute an unknown fare by the taking the median fare for passengers with the same class\n",
    "raw_data.loc[(raw_data[\"Fare\"].isnull() == True), \"Fare\"] = raw_data.loc[raw_data[\"Pclass\"] == 3,  \"Fare\"].value_counts().index[1]"
   ]
  },
  {
   "cell_type": "code",
   "execution_count": 250,
   "metadata": {
    "collapsed": true
   },
   "outputs": [],
   "source": [
    "#Create a family size feature using Sibilings and Parents column\n",
    "raw_data[\"FamilySize\"] = raw_data[\"SibSp\"] + raw_data[\"Parch\"] + 1"
   ]
  },
  {
   "cell_type": "code",
   "execution_count": 251,
   "metadata": {
    "collapsed": false
   },
   "outputs": [],
   "source": [
    "#Create a wealth feature using the passenger's fare price and age\n",
    "raw_data[\"Wealth\"] = raw_data[\"Fare\"] * raw_data[\"Age\"]"
   ]
  },
  {
   "cell_type": "code",
   "execution_count": 252,
   "metadata": {
    "collapsed": true
   },
   "outputs": [],
   "source": [
    "#Create a family feature which groups families together (passengers with the same surname and same family size)\n",
    "raw_data[\"Family\"] = surnames + raw_data[\"FamilySize\"].apply(str)\n",
    "raw_data.loc[raw_data[\"FamilySize\"] < 3, \"Family\"] = \"Small\""
   ]
  },
  {
   "cell_type": "code",
   "execution_count": 253,
   "metadata": {
    "collapsed": false
   },
   "outputs": [
    {
     "data": {
      "text/plain": [
       "array(['Small', 'Sage11', 'Andersson7', 'Goodwin8', 'Asplund7', 'Panula6',\n",
       "       'Rice6', 'Skoog6', 'Fortune6', 'Lefebre5', 'Davies3', 'Palsson5',\n",
       "       'Ford5', 'Ryerson5', 'Baclini4', 'Carter4', 'Becker4', 'Brown3',\n",
       "       'Dean4', 'Allison4', 'Herman4', 'Johnston4', 'West4', 'Laroche4',\n",
       "       'Boulos3', 'Coutts3', 'Mallet3', 'Elias3', 'Peter3', 'McCoy3',\n",
       "       'Hart3', 'Thayer3', 'Abbott3', 'Peacock3', 'Goldsmith3', 'Samaan3',\n",
       "       'Sandstrom3', 'Quick3', 'Nakid3', 'Compton3', 'Taussig3',\n",
       "       'Moubarek3', 'Bourke3', 'Van Impe3', 'Navratil3', 'Klasen3',\n",
       "       'Dodge3', 'Crosby3', 'Danbom3', 'Widener3', 'Wells3', 'Wick3',\n",
       "       'Spedden3', 'Touma3', 'van Billiard3', 'Caldwell3', 'Johnson3',\n",
       "       'Collyer3', 'Drew3', 'Hickman3', 'Rosblom3', 'Jefferys3',\n",
       "       'Lahtinen3', 'Frolicher-Stehli3', 'Hocking4', 'Richards3',\n",
       "       'Christy3', 'Beckwith3', 'Gustafsson3', 'Vander Planke3', 'Kink3',\n",
       "       'Hays3', 'Kink-Heilmann3', 'Hamalainen3', 'Hirvonen3', 'Frolicher3',\n",
       "       'Frauenthal3', 'Jacobsohn4', 'Silven3', 'Hocking5', 'Newell3',\n",
       "       'Hiltunen3', 'Thomas3', 'Vander Planke4', 'Strom3', 'Hansen3',\n",
       "       'Kink-Heilmann5', 'Newsom3', 'Nicholls3', 'Richards6', 'Renouf4',\n",
       "       'Backstrom4', 'Davidson4', 'Douglas3', 'Appleton3', 'Cornell3',\n",
       "       'Minahan3'], dtype=object)"
      ]
     },
     "execution_count": 253,
     "metadata": {},
     "output_type": "execute_result"
    }
   ],
   "source": [
    "raw_data[\"Family\"].value_counts().index.values"
   ]
  },
  {
   "cell_type": "code",
   "execution_count": 254,
   "metadata": {
    "collapsed": false
   },
   "outputs": [
    {
     "data": {
      "text/plain": [
       " 0     4\n",
       "NaN    1\n",
       "Name: Survived, dtype: int64"
      ]
     },
     "execution_count": 254,
     "metadata": {},
     "output_type": "execute_result"
    }
   ],
   "source": [
    "raw_data.loc[raw_data[\"Family\"] == \"Lefebre5\", \"Survived\"].value_counts(dropna=False)"
   ]
  },
  {
   "cell_type": "code",
   "execution_count": 255,
   "metadata": {
    "collapsed": false
   },
   "outputs": [
    {
     "data": {
      "text/html": [
       "<div>\n",
       "<table border=\"1\" class=\"dataframe\">\n",
       "  <thead>\n",
       "    <tr style=\"text-align: right;\">\n",
       "      <th></th>\n",
       "      <th>Age</th>\n",
       "      <th>Embarked</th>\n",
       "      <th>Fare</th>\n",
       "      <th>Name</th>\n",
       "      <th>Parch</th>\n",
       "      <th>PassengerId</th>\n",
       "      <th>Pclass</th>\n",
       "      <th>Sex</th>\n",
       "      <th>SibSp</th>\n",
       "      <th>Survived</th>\n",
       "      <th>Title</th>\n",
       "      <th>FamilySize</th>\n",
       "      <th>Wealth</th>\n",
       "      <th>Family</th>\n",
       "    </tr>\n",
       "  </thead>\n",
       "  <tbody>\n",
       "    <tr>\n",
       "      <th>176</th>\n",
       "      <td>18.0</td>\n",
       "      <td>S</td>\n",
       "      <td>25.4667</td>\n",
       "      <td>Lefebre, Master. Henry Forbes</td>\n",
       "      <td>1</td>\n",
       "      <td>177</td>\n",
       "      <td>3</td>\n",
       "      <td>male</td>\n",
       "      <td>3</td>\n",
       "      <td>0</td>\n",
       "      <td>Child</td>\n",
       "      <td>5</td>\n",
       "      <td>458.40060</td>\n",
       "      <td>Lefebre5</td>\n",
       "    </tr>\n",
       "    <tr>\n",
       "      <th>229</th>\n",
       "      <td>18.0</td>\n",
       "      <td>S</td>\n",
       "      <td>25.4667</td>\n",
       "      <td>Lefebre, Miss. Mathilde</td>\n",
       "      <td>1</td>\n",
       "      <td>230</td>\n",
       "      <td>3</td>\n",
       "      <td>female</td>\n",
       "      <td>3</td>\n",
       "      <td>0</td>\n",
       "      <td>Child</td>\n",
       "      <td>5</td>\n",
       "      <td>458.40060</td>\n",
       "      <td>Lefebre5</td>\n",
       "    </tr>\n",
       "    <tr>\n",
       "      <th>409</th>\n",
       "      <td>18.0</td>\n",
       "      <td>S</td>\n",
       "      <td>25.4667</td>\n",
       "      <td>Lefebre, Miss. Ida</td>\n",
       "      <td>1</td>\n",
       "      <td>410</td>\n",
       "      <td>3</td>\n",
       "      <td>female</td>\n",
       "      <td>3</td>\n",
       "      <td>0</td>\n",
       "      <td>Child</td>\n",
       "      <td>5</td>\n",
       "      <td>458.40060</td>\n",
       "      <td>Lefebre5</td>\n",
       "    </tr>\n",
       "    <tr>\n",
       "      <th>485</th>\n",
       "      <td>18.0</td>\n",
       "      <td>S</td>\n",
       "      <td>25.4667</td>\n",
       "      <td>Lefebre, Miss. Jeannie</td>\n",
       "      <td>1</td>\n",
       "      <td>486</td>\n",
       "      <td>3</td>\n",
       "      <td>female</td>\n",
       "      <td>3</td>\n",
       "      <td>0</td>\n",
       "      <td>Child</td>\n",
       "      <td>5</td>\n",
       "      <td>458.40060</td>\n",
       "      <td>Lefebre5</td>\n",
       "    </tr>\n",
       "    <tr>\n",
       "      <th>132</th>\n",
       "      <td>35.5</td>\n",
       "      <td>S</td>\n",
       "      <td>25.4667</td>\n",
       "      <td>Lefebre, Mrs. Frank (Frances)</td>\n",
       "      <td>4</td>\n",
       "      <td>1024</td>\n",
       "      <td>3</td>\n",
       "      <td>female</td>\n",
       "      <td>0</td>\n",
       "      <td>NaN</td>\n",
       "      <td>Mrs</td>\n",
       "      <td>5</td>\n",
       "      <td>904.06785</td>\n",
       "      <td>Lefebre5</td>\n",
       "    </tr>\n",
       "  </tbody>\n",
       "</table>\n",
       "</div>"
      ],
      "text/plain": [
       "      Age Embarked     Fare                           Name  Parch  \\\n",
       "176  18.0        S  25.4667  Lefebre, Master. Henry Forbes      1   \n",
       "229  18.0        S  25.4667        Lefebre, Miss. Mathilde      1   \n",
       "409  18.0        S  25.4667             Lefebre, Miss. Ida      1   \n",
       "485  18.0        S  25.4667         Lefebre, Miss. Jeannie      1   \n",
       "132  35.5        S  25.4667  Lefebre, Mrs. Frank (Frances)      4   \n",
       "\n",
       "     PassengerId  Pclass     Sex  SibSp  Survived  Title  FamilySize  \\\n",
       "176          177       3    male      3         0  Child           5   \n",
       "229          230       3  female      3         0  Child           5   \n",
       "409          410       3  female      3         0  Child           5   \n",
       "485          486       3  female      3         0  Child           5   \n",
       "132         1024       3  female      0       NaN    Mrs           5   \n",
       "\n",
       "        Wealth    Family  \n",
       "176  458.40060  Lefebre5  \n",
       "229  458.40060  Lefebre5  \n",
       "409  458.40060  Lefebre5  \n",
       "485  458.40060  Lefebre5  \n",
       "132  904.06785  Lefebre5  "
      ]
     },
     "execution_count": 255,
     "metadata": {},
     "output_type": "execute_result"
    }
   ],
   "source": [
    "raw_data.loc[raw_data[\"Family\"] == \"Lefebre5\"]"
   ]
  },
  {
   "cell_type": "code",
   "execution_count": 256,
   "metadata": {
    "collapsed": true
   },
   "outputs": [],
   "source": [
    "#Create a feature indicating whether the majority of the family survived, died, or unknown\n",
    "#FamilyStatus_survived\n",
    "#FamilyStatus_perished\n",
    "#FamilyStatus_unknown\n",
    "for family in raw_data[\"Family\"].value_counts().index.values:\n",
    "    if family != \"Small\":\n",
    "        if raw_data.loc[raw_data[\"Family\"] == family, \"Survived\"].value_counts(dropna=False).index[0] == 1:\n",
    "            raw_data.loc[raw_data[\"Family\"] == family, \"FamilyStatus\"] = \"survived\"\n",
    "        elif raw_data.loc[raw_data[\"Family\"] == family, \"Survived\"].value_counts(dropna=False).index[0] == 0: \n",
    "            raw_data.loc[raw_data[\"Family\"] == family, \"FamilyStatus\"] = \"perished\"\n",
    "        else:\n",
    "            raw_data.loc[raw_data[\"Family\"] == family, \"FamilyStatus\"] = \"unknown\"\n",
    "    else:\n",
    "        raw_data.loc[raw_data[\"Family\"] == family, \"FamilyStatus\"] = \"unknown\""
   ]
  },
  {
   "cell_type": "code",
   "execution_count": 257,
   "metadata": {
    "collapsed": false
   },
   "outputs": [
    {
     "name": "stdout",
     "output_type": "stream",
     "text": [
      "Age                        0\n",
      "Fare                       0\n",
      "Name                       0\n",
      "Parch                      0\n",
      "PassengerId                0\n",
      "SibSp                      0\n",
      "Survived                 418\n",
      "FamilySize                 0\n",
      "Wealth                     0\n",
      "Family                     0\n",
      "Sex_female                 0\n",
      "Sex_male                   0\n",
      "Pclass_1                   0\n",
      "Pclass_2                   0\n",
      "Pclass_3                   0\n",
      "Title_Child                0\n",
      "Title_Lady                 0\n",
      "Title_Mr                   0\n",
      "Title_Mrs                  0\n",
      "Title_Sir                  0\n",
      "Embarked_C                 0\n",
      "Embarked_Q                 0\n",
      "Embarked_S                 0\n",
      "FamilyStatus_perished      0\n",
      "FamilyStatus_survived      0\n",
      "FamilyStatus_unknown       0\n",
      "dtype: int64\n"
     ]
    },
    {
     "data": {
      "text/html": [
       "<div>\n",
       "<table border=\"1\" class=\"dataframe\">\n",
       "  <thead>\n",
       "    <tr style=\"text-align: right;\">\n",
       "      <th></th>\n",
       "      <th>Age</th>\n",
       "      <th>Fare</th>\n",
       "      <th>Name</th>\n",
       "      <th>Parch</th>\n",
       "      <th>PassengerId</th>\n",
       "      <th>SibSp</th>\n",
       "      <th>Survived</th>\n",
       "      <th>FamilySize</th>\n",
       "      <th>Wealth</th>\n",
       "      <th>Family</th>\n",
       "      <th>...</th>\n",
       "      <th>Title_Lady</th>\n",
       "      <th>Title_Mr</th>\n",
       "      <th>Title_Mrs</th>\n",
       "      <th>Title_Sir</th>\n",
       "      <th>Embarked_C</th>\n",
       "      <th>Embarked_Q</th>\n",
       "      <th>Embarked_S</th>\n",
       "      <th>FamilyStatus_perished</th>\n",
       "      <th>FamilyStatus_survived</th>\n",
       "      <th>FamilyStatus_unknown</th>\n",
       "    </tr>\n",
       "  </thead>\n",
       "  <tbody>\n",
       "    <tr>\n",
       "      <th>0</th>\n",
       "      <td>22</td>\n",
       "      <td>7.2500</td>\n",
       "      <td>Braund, Mr. Owen Harris</td>\n",
       "      <td>0</td>\n",
       "      <td>1</td>\n",
       "      <td>1</td>\n",
       "      <td>0</td>\n",
       "      <td>2</td>\n",
       "      <td>159.5000</td>\n",
       "      <td>Small</td>\n",
       "      <td>...</td>\n",
       "      <td>0</td>\n",
       "      <td>1</td>\n",
       "      <td>0</td>\n",
       "      <td>0</td>\n",
       "      <td>0</td>\n",
       "      <td>0</td>\n",
       "      <td>1</td>\n",
       "      <td>0</td>\n",
       "      <td>0</td>\n",
       "      <td>1</td>\n",
       "    </tr>\n",
       "    <tr>\n",
       "      <th>1</th>\n",
       "      <td>38</td>\n",
       "      <td>71.2833</td>\n",
       "      <td>Cumings, Mrs. John Bradley (Florence Briggs Th...</td>\n",
       "      <td>0</td>\n",
       "      <td>2</td>\n",
       "      <td>1</td>\n",
       "      <td>1</td>\n",
       "      <td>2</td>\n",
       "      <td>2708.7654</td>\n",
       "      <td>Small</td>\n",
       "      <td>...</td>\n",
       "      <td>0</td>\n",
       "      <td>0</td>\n",
       "      <td>1</td>\n",
       "      <td>0</td>\n",
       "      <td>1</td>\n",
       "      <td>0</td>\n",
       "      <td>0</td>\n",
       "      <td>0</td>\n",
       "      <td>0</td>\n",
       "      <td>1</td>\n",
       "    </tr>\n",
       "    <tr>\n",
       "      <th>2</th>\n",
       "      <td>26</td>\n",
       "      <td>7.9250</td>\n",
       "      <td>Heikkinen, Miss. Laina</td>\n",
       "      <td>0</td>\n",
       "      <td>3</td>\n",
       "      <td>0</td>\n",
       "      <td>1</td>\n",
       "      <td>1</td>\n",
       "      <td>206.0500</td>\n",
       "      <td>Small</td>\n",
       "      <td>...</td>\n",
       "      <td>0</td>\n",
       "      <td>0</td>\n",
       "      <td>0</td>\n",
       "      <td>0</td>\n",
       "      <td>0</td>\n",
       "      <td>0</td>\n",
       "      <td>1</td>\n",
       "      <td>0</td>\n",
       "      <td>0</td>\n",
       "      <td>1</td>\n",
       "    </tr>\n",
       "    <tr>\n",
       "      <th>3</th>\n",
       "      <td>35</td>\n",
       "      <td>53.1000</td>\n",
       "      <td>Futrelle, Mrs. Jacques Heath (Lily May Peel)</td>\n",
       "      <td>0</td>\n",
       "      <td>4</td>\n",
       "      <td>1</td>\n",
       "      <td>1</td>\n",
       "      <td>2</td>\n",
       "      <td>1858.5000</td>\n",
       "      <td>Small</td>\n",
       "      <td>...</td>\n",
       "      <td>0</td>\n",
       "      <td>0</td>\n",
       "      <td>1</td>\n",
       "      <td>0</td>\n",
       "      <td>0</td>\n",
       "      <td>0</td>\n",
       "      <td>1</td>\n",
       "      <td>0</td>\n",
       "      <td>0</td>\n",
       "      <td>1</td>\n",
       "    </tr>\n",
       "    <tr>\n",
       "      <th>4</th>\n",
       "      <td>35</td>\n",
       "      <td>8.0500</td>\n",
       "      <td>Allen, Mr. William Henry</td>\n",
       "      <td>0</td>\n",
       "      <td>5</td>\n",
       "      <td>0</td>\n",
       "      <td>0</td>\n",
       "      <td>1</td>\n",
       "      <td>281.7500</td>\n",
       "      <td>Small</td>\n",
       "      <td>...</td>\n",
       "      <td>0</td>\n",
       "      <td>1</td>\n",
       "      <td>0</td>\n",
       "      <td>0</td>\n",
       "      <td>0</td>\n",
       "      <td>0</td>\n",
       "      <td>1</td>\n",
       "      <td>0</td>\n",
       "      <td>0</td>\n",
       "      <td>1</td>\n",
       "    </tr>\n",
       "  </tbody>\n",
       "</table>\n",
       "<p>5 rows × 26 columns</p>\n",
       "</div>"
      ],
      "text/plain": [
       "   Age     Fare                                               Name  Parch  \\\n",
       "0   22   7.2500                            Braund, Mr. Owen Harris      0   \n",
       "1   38  71.2833  Cumings, Mrs. John Bradley (Florence Briggs Th...      0   \n",
       "2   26   7.9250                             Heikkinen, Miss. Laina      0   \n",
       "3   35  53.1000       Futrelle, Mrs. Jacques Heath (Lily May Peel)      0   \n",
       "4   35   8.0500                           Allen, Mr. William Henry      0   \n",
       "\n",
       "   PassengerId  SibSp  Survived  FamilySize     Wealth Family  \\\n",
       "0            1      1         0           2   159.5000  Small   \n",
       "1            2      1         1           2  2708.7654  Small   \n",
       "2            3      0         1           1   206.0500  Small   \n",
       "3            4      1         1           2  1858.5000  Small   \n",
       "4            5      0         0           1   281.7500  Small   \n",
       "\n",
       "           ...           Title_Lady  Title_Mr  Title_Mrs  Title_Sir  \\\n",
       "0          ...                    0         1          0          0   \n",
       "1          ...                    0         0          1          0   \n",
       "2          ...                    0         0          0          0   \n",
       "3          ...                    0         0          1          0   \n",
       "4          ...                    0         1          0          0   \n",
       "\n",
       "   Embarked_C  Embarked_Q  Embarked_S  FamilyStatus_perished  \\\n",
       "0           0           0           1                      0   \n",
       "1           1           0           0                      0   \n",
       "2           0           0           1                      0   \n",
       "3           0           0           1                      0   \n",
       "4           0           0           1                      0   \n",
       "\n",
       "   FamilyStatus_survived  FamilyStatus_unknown  \n",
       "0                      0                     1  \n",
       "1                      0                     1  \n",
       "2                      0                     1  \n",
       "3                      0                     1  \n",
       "4                      0                     1  \n",
       "\n",
       "[5 rows x 26 columns]"
      ]
     },
     "execution_count": 257,
     "metadata": {},
     "output_type": "execute_result"
    }
   ],
   "source": [
    "#One hot encoting for categorical variables \n",
    "raw_data_onehot = pd.get_dummies(raw_data,columns=[\"Sex\", \"Pclass\", \"Title\", \"Embarked\", \"FamilyStatus\"])\n",
    "\n",
    "print raw_data_onehot.isnull().sum()\n",
    "\n",
    "raw_data_onehot.head()"
   ]
  },
  {
   "cell_type": "code",
   "execution_count": 258,
   "metadata": {
    "collapsed": false
   },
   "outputs": [],
   "source": [
    "#Split back the data set into train and test sets\n",
    "train_data = raw_data_onehot[raw_data_onehot[\"PassengerId\"] < 892]\n",
    "\n"
   ]
  },
  {
   "cell_type": "code",
   "execution_count": 259,
   "metadata": {
    "collapsed": true
   },
   "outputs": [],
   "source": [
    "test_data = raw_data_onehot[raw_data_onehot[\"PassengerId\"] >= 892]"
   ]
  },
  {
   "cell_type": "code",
   "execution_count": 260,
   "metadata": {
    "collapsed": false
   },
   "outputs": [
    {
     "name": "stdout",
     "output_type": "stream",
     "text": [
      "Before Balance\n",
      "--------------\n",
      "% Survived:  0.383838383838\n",
      "% Not Survived:  0.616161616162\n",
      "--------------\n",
      "After Balance\n",
      "--------------\n",
      "% Survived:  0.5\n",
      "% Not Survived:  0.5\n",
      "--------------\n"
     ]
    }
   ],
   "source": [
    "#Fix class imbalance on training set\n",
    "survivors = train_data[train_data[\"Survived\"] == 1]\n",
    "non_survivors = train_data[train_data[\"Survived\"] == 0]\n",
    "\n",
    "print \"Before Balance\"\n",
    "print \"--------------\"\n",
    "print \"% Survived: \", len(survivors) / float(len(train_data[\"Survived\"]))\n",
    "print \"% Not Survived: \", len(non_survivors) / float(len(train_data[\"Survived\"]))\n",
    "print \"--------------\"\n",
    "\n",
    "ratio = len(survivors) / float(len(non_survivors))\n",
    "non_survivors = non_survivors.sample(frac=ratio)\n",
    "train_data_bal = survivors.append(non_survivors)\n",
    "\n",
    "survivors = train_data_bal[train_data_bal[\"Survived\"] == 1]\n",
    "non_survivors = train_data_bal[train_data_bal[\"Survived\"] == 0]\n",
    "\n",
    "print \"After Balance\"\n",
    "print \"--------------\"\n",
    "print \"% Survived: \", len(survivors) / float(len(train_data_bal[\"Survived\"]))\n",
    "print \"% Not Survived: \", len(non_survivors) / float(len(train_data_bal[\"Survived\"]))\n",
    "print \"--------------\"\n"
   ]
  },
  {
   "cell_type": "code",
   "execution_count": 261,
   "metadata": {
    "collapsed": false
   },
   "outputs": [
    {
     "data": {
      "text/html": [
       "<div>\n",
       "<table border=\"1\" class=\"dataframe\">\n",
       "  <thead>\n",
       "    <tr style=\"text-align: right;\">\n",
       "      <th></th>\n",
       "      <th>Age</th>\n",
       "      <th>Fare</th>\n",
       "      <th>Name</th>\n",
       "      <th>Parch</th>\n",
       "      <th>PassengerId</th>\n",
       "      <th>SibSp</th>\n",
       "      <th>Survived</th>\n",
       "      <th>FamilySize</th>\n",
       "      <th>Wealth</th>\n",
       "      <th>Family</th>\n",
       "      <th>...</th>\n",
       "      <th>Title_Lady</th>\n",
       "      <th>Title_Mr</th>\n",
       "      <th>Title_Mrs</th>\n",
       "      <th>Title_Sir</th>\n",
       "      <th>Embarked_C</th>\n",
       "      <th>Embarked_Q</th>\n",
       "      <th>Embarked_S</th>\n",
       "      <th>FamilyStatus_perished</th>\n",
       "      <th>FamilyStatus_survived</th>\n",
       "      <th>FamilyStatus_unknown</th>\n",
       "    </tr>\n",
       "  </thead>\n",
       "  <tbody>\n",
       "    <tr>\n",
       "      <th>0</th>\n",
       "      <td>22</td>\n",
       "      <td>7.2500</td>\n",
       "      <td>Braund, Mr. Owen Harris</td>\n",
       "      <td>0</td>\n",
       "      <td>1</td>\n",
       "      <td>1</td>\n",
       "      <td>0</td>\n",
       "      <td>2</td>\n",
       "      <td>159.5000</td>\n",
       "      <td>Small</td>\n",
       "      <td>...</td>\n",
       "      <td>0</td>\n",
       "      <td>1</td>\n",
       "      <td>0</td>\n",
       "      <td>0</td>\n",
       "      <td>0</td>\n",
       "      <td>0</td>\n",
       "      <td>1</td>\n",
       "      <td>0</td>\n",
       "      <td>0</td>\n",
       "      <td>1</td>\n",
       "    </tr>\n",
       "    <tr>\n",
       "      <th>1</th>\n",
       "      <td>38</td>\n",
       "      <td>71.2833</td>\n",
       "      <td>Cumings, Mrs. John Bradley (Florence Briggs Th...</td>\n",
       "      <td>0</td>\n",
       "      <td>2</td>\n",
       "      <td>1</td>\n",
       "      <td>1</td>\n",
       "      <td>2</td>\n",
       "      <td>2708.7654</td>\n",
       "      <td>Small</td>\n",
       "      <td>...</td>\n",
       "      <td>0</td>\n",
       "      <td>0</td>\n",
       "      <td>1</td>\n",
       "      <td>0</td>\n",
       "      <td>1</td>\n",
       "      <td>0</td>\n",
       "      <td>0</td>\n",
       "      <td>0</td>\n",
       "      <td>0</td>\n",
       "      <td>1</td>\n",
       "    </tr>\n",
       "    <tr>\n",
       "      <th>2</th>\n",
       "      <td>26</td>\n",
       "      <td>7.9250</td>\n",
       "      <td>Heikkinen, Miss. Laina</td>\n",
       "      <td>0</td>\n",
       "      <td>3</td>\n",
       "      <td>0</td>\n",
       "      <td>1</td>\n",
       "      <td>1</td>\n",
       "      <td>206.0500</td>\n",
       "      <td>Small</td>\n",
       "      <td>...</td>\n",
       "      <td>0</td>\n",
       "      <td>0</td>\n",
       "      <td>0</td>\n",
       "      <td>0</td>\n",
       "      <td>0</td>\n",
       "      <td>0</td>\n",
       "      <td>1</td>\n",
       "      <td>0</td>\n",
       "      <td>0</td>\n",
       "      <td>1</td>\n",
       "    </tr>\n",
       "    <tr>\n",
       "      <th>3</th>\n",
       "      <td>35</td>\n",
       "      <td>53.1000</td>\n",
       "      <td>Futrelle, Mrs. Jacques Heath (Lily May Peel)</td>\n",
       "      <td>0</td>\n",
       "      <td>4</td>\n",
       "      <td>1</td>\n",
       "      <td>1</td>\n",
       "      <td>2</td>\n",
       "      <td>1858.5000</td>\n",
       "      <td>Small</td>\n",
       "      <td>...</td>\n",
       "      <td>0</td>\n",
       "      <td>0</td>\n",
       "      <td>1</td>\n",
       "      <td>0</td>\n",
       "      <td>0</td>\n",
       "      <td>0</td>\n",
       "      <td>1</td>\n",
       "      <td>0</td>\n",
       "      <td>0</td>\n",
       "      <td>1</td>\n",
       "    </tr>\n",
       "    <tr>\n",
       "      <th>4</th>\n",
       "      <td>35</td>\n",
       "      <td>8.0500</td>\n",
       "      <td>Allen, Mr. William Henry</td>\n",
       "      <td>0</td>\n",
       "      <td>5</td>\n",
       "      <td>0</td>\n",
       "      <td>0</td>\n",
       "      <td>1</td>\n",
       "      <td>281.7500</td>\n",
       "      <td>Small</td>\n",
       "      <td>...</td>\n",
       "      <td>0</td>\n",
       "      <td>1</td>\n",
       "      <td>0</td>\n",
       "      <td>0</td>\n",
       "      <td>0</td>\n",
       "      <td>0</td>\n",
       "      <td>1</td>\n",
       "      <td>0</td>\n",
       "      <td>0</td>\n",
       "      <td>1</td>\n",
       "    </tr>\n",
       "  </tbody>\n",
       "</table>\n",
       "<p>5 rows × 26 columns</p>\n",
       "</div>"
      ],
      "text/plain": [
       "   Age     Fare                                               Name  Parch  \\\n",
       "0   22   7.2500                            Braund, Mr. Owen Harris      0   \n",
       "1   38  71.2833  Cumings, Mrs. John Bradley (Florence Briggs Th...      0   \n",
       "2   26   7.9250                             Heikkinen, Miss. Laina      0   \n",
       "3   35  53.1000       Futrelle, Mrs. Jacques Heath (Lily May Peel)      0   \n",
       "4   35   8.0500                           Allen, Mr. William Henry      0   \n",
       "\n",
       "   PassengerId  SibSp  Survived  FamilySize     Wealth Family  \\\n",
       "0            1      1         0           2   159.5000  Small   \n",
       "1            2      1         1           2  2708.7654  Small   \n",
       "2            3      0         1           1   206.0500  Small   \n",
       "3            4      1         1           2  1858.5000  Small   \n",
       "4            5      0         0           1   281.7500  Small   \n",
       "\n",
       "           ...           Title_Lady  Title_Mr  Title_Mrs  Title_Sir  \\\n",
       "0          ...                    0         1          0          0   \n",
       "1          ...                    0         0          1          0   \n",
       "2          ...                    0         0          0          0   \n",
       "3          ...                    0         0          1          0   \n",
       "4          ...                    0         1          0          0   \n",
       "\n",
       "   Embarked_C  Embarked_Q  Embarked_S  FamilyStatus_perished  \\\n",
       "0           0           0           1                      0   \n",
       "1           1           0           0                      0   \n",
       "2           0           0           1                      0   \n",
       "3           0           0           1                      0   \n",
       "4           0           0           1                      0   \n",
       "\n",
       "   FamilyStatus_survived  FamilyStatus_unknown  \n",
       "0                      0                     1  \n",
       "1                      0                     1  \n",
       "2                      0                     1  \n",
       "3                      0                     1  \n",
       "4                      0                     1  \n",
       "\n",
       "[5 rows x 26 columns]"
      ]
     },
     "execution_count": 261,
     "metadata": {},
     "output_type": "execute_result"
    }
   ],
   "source": [
    "train_data.head()"
   ]
  },
  {
   "cell_type": "code",
   "execution_count": 262,
   "metadata": {
    "collapsed": false
   },
   "outputs": [
    {
     "data": {
      "text/plain": [
       "array(['Age', 'Fare', 'Name', 'Parch', 'PassengerId', 'SibSp', 'Survived',\n",
       "       'FamilySize', 'Wealth', 'Family', 'Sex_female', 'Sex_male',\n",
       "       'Pclass_1', 'Pclass_2', 'Pclass_3', 'Title_Child', 'Title_Lady',\n",
       "       'Title_Mr', 'Title_Mrs', 'Title_Sir', 'Embarked_C', 'Embarked_Q',\n",
       "       'Embarked_S', 'FamilyStatus_perished', 'FamilyStatus_survived',\n",
       "       'FamilyStatus_unknown'], dtype=object)"
      ]
     },
     "execution_count": 262,
     "metadata": {},
     "output_type": "execute_result"
    }
   ],
   "source": [
    "train_data.columns.values"
   ]
  },
  {
   "cell_type": "code",
   "execution_count": 263,
   "metadata": {
    "collapsed": true
   },
   "outputs": [],
   "source": [
    "features = ['Age', \n",
    "            'Fare', \n",
    "            'FamilySize', \n",
    "            'Sex_female', \n",
    "            'Sex_male', \n",
    "            'Pclass_1', \n",
    "            'Pclass_2',\n",
    "            'Pclass_3', \n",
    "            'Title_Child', \n",
    "            'Title_Lady', \n",
    "            'Title_Mr', \n",
    "            'Title_Mrs', \n",
    "            'Title_Sir', \n",
    "            'Wealth',\n",
    "            'FamilyStatus_perished', \n",
    "            'FamilyStatus_survived',\n",
    "            'FamilyStatus_unknown']"
   ]
  },
  {
   "cell_type": "code",
   "execution_count": 264,
   "metadata": {
    "collapsed": false
   },
   "outputs": [
    {
     "name": "stdout",
     "output_type": "stream",
     "text": [
      "Model with rank: 1\n",
      "Mean validation score: 0.848 (std: 0.017)\n",
      "Parameters: {'max_features': 10, 'min_samples_split': 1, 'criterion': 'gini', 'max_depth': 6, 'min_samples_leaf': 1}\n",
      "\n",
      "Model with rank: 2\n",
      "Mean validation score: 0.845 (std: 0.012)\n",
      "Parameters: {'max_features': 10, 'min_samples_split': 10, 'criterion': 'entropy', 'max_depth': 3, 'min_samples_leaf': 1}\n",
      "\n",
      "Model with rank: 3\n",
      "Mean validation score: 0.845 (std: 0.010)\n",
      "Parameters: {'max_features': 10, 'min_samples_split': 10, 'criterion': 'entropy', 'max_depth': 6, 'min_samples_leaf': 3}\n",
      "\n"
     ]
    }
   ],
   "source": [
    "from sklearn.grid_search import GridSearchCV\n",
    "from sklearn import tree\n",
    "\n",
    "param_grid = {\"max_depth\": [3, 6, 9, None],\n",
    "              \"max_features\": [1, 3, 10],\n",
    "              \"min_samples_split\": [1, 3, 10, 15],\n",
    "              \"min_samples_leaf\": [1, 3, 10],\n",
    "              \"criterion\": [\"gini\", \"entropy\"]}\n",
    "#Train decision tree\n",
    "from sklearn import tree\n",
    "dtree = tree.DecisionTreeClassifier()\n",
    "grid_search = GridSearchCV(dtree, param_grid=param_grid)\n",
    "grid_search.fit(train_data[features], train_data[\"Survived\"])\n",
    "report(grid_search.grid_scores_)"
   ]
  },
  {
   "cell_type": "code",
   "execution_count": 265,
   "metadata": {
    "collapsed": false
   },
   "outputs": [
    {
     "name": "stdout",
     "output_type": "stream",
     "text": [
      "Accuracy: 0.84 (+/- 0.06)\n"
     ]
    }
   ],
   "source": [
    "from sklearn import metrics\n",
    "from sklearn import cross_validation\n",
    "tree_best = tree.DecisionTreeClassifier(max_features = 10, min_samples_split = 1, criterion ='gini', max_depth = 6, min_samples_leaf = 1)\n",
    "tree_best_scores = cross_validation.cross_val_score(tree_best, train_data[features], train_data[\"Survived\"], cv=10)\n",
    "print(\"Accuracy: %0.2f (+/- %0.2f)\" % (tree_best_scores.mean(), tree_best_scores.std() * 2))"
   ]
  },
  {
   "cell_type": "code",
   "execution_count": 266,
   "metadata": {
    "collapsed": false
   },
   "outputs": [
    {
     "name": "stdout",
     "output_type": "stream",
     "text": [
      "Model with rank: 1\n",
      "Mean validation score: 0.847 (std: 0.014)\n",
      "Parameters: {'base_estimator__min_samples_split': 15, 'base_estimator__criterion': 'gini', 'base_estimator__max_depth': 3, 'base_estimator__min_samples_leaf': 1, 'base_estimator__max_features': 1}\n",
      "\n",
      "Model with rank: 2\n",
      "Mean validation score: 0.845 (std: 0.007)\n",
      "Parameters: {'base_estimator__min_samples_split': 15, 'base_estimator__criterion': 'gini', 'base_estimator__max_depth': 3, 'base_estimator__min_samples_leaf': 10, 'base_estimator__max_features': 1}\n",
      "\n",
      "Model with rank: 3\n",
      "Mean validation score: 0.844 (std: 0.008)\n",
      "Parameters: {'base_estimator__min_samples_split': 1, 'base_estimator__criterion': 'gini', 'base_estimator__max_depth': 1, 'base_estimator__min_samples_leaf': 3, 'base_estimator__max_features': 1}\n",
      "\n"
     ]
    }
   ],
   "source": [
    "from sklearn.ensemble import AdaBoostClassifier\n",
    "from sklearn import tree\n",
    "\n",
    "dtree = tree.DecisionTreeClassifier()\n",
    "\n",
    "param_grid = {\"base_estimator__max_depth\": [1, 3, 5, None],\n",
    "              \"base_estimator__max_features\": [1, 3, 10],\n",
    "              \"base_estimator__min_samples_split\": [1, 3, 10, 15],\n",
    "              \"base_estimator__min_samples_leaf\": [1, 3, 10],\n",
    "              \"base_estimator__criterion\": [\"gini\", \"entropy\"]}\n",
    "boost_tree = AdaBoostClassifier(dtree, n_estimators=20)\n",
    "grid_search = GridSearchCV(boost_tree, param_grid=param_grid)\n",
    "grid_search.fit(train_data[features], train_data[\"Survived\"])\n",
    "report(grid_search.grid_scores_)"
   ]
  },
  {
   "cell_type": "code",
   "execution_count": 268,
   "metadata": {
    "collapsed": false
   },
   "outputs": [
    {
     "name": "stdout",
     "output_type": "stream",
     "text": [
      "Accuracy: 0.83 (+/- 0.08)\n"
     ]
    }
   ],
   "source": [
    "from sklearn.ensemble import AdaBoostClassifier\n",
    "\n",
    "dtree = tree.DecisionTreeClassifier(max_features = 1, \n",
    "                                    min_samples_split = 15, \n",
    "                                    criterion ='gini', \n",
    "                                    max_depth = 3, \n",
    "                                    min_samples_leaf = 1)\n",
    "boosted_tree_best = AdaBoostClassifier(dtree, n_estimators=100)\n",
    "boosted_tree_best_scores = cross_validation.cross_val_score(boosted_tree_best, train_data[features], target, cv=10)\n",
    "print(\"Accuracy: %0.2f (+/- %0.2f)\" % (boosted_tree_best_scores.mean(), boosted_tree_best_scores.std() * 2))"
   ]
  },
  {
   "cell_type": "code",
   "execution_count": 269,
   "metadata": {
    "collapsed": false
   },
   "outputs": [
    {
     "name": "stdout",
     "output_type": "stream",
     "text": [
      "Model with rank: 1\n",
      "Mean validation score: 0.864 (std: 0.018)\n",
      "Parameters: {'bootstrap': False, 'min_samples_leaf': 3, 'min_samples_split': 15, 'criterion': 'gini', 'max_features': 1, 'max_depth': None}\n",
      "\n",
      "Model with rank: 2\n",
      "Mean validation score: 0.863 (std: 0.017)\n",
      "Parameters: {'bootstrap': True, 'min_samples_leaf': 3, 'min_samples_split': 3, 'criterion': 'entropy', 'max_features': 3, 'max_depth': None}\n",
      "\n",
      "Model with rank: 3\n",
      "Mean validation score: 0.863 (std: 0.017)\n",
      "Parameters: {'bootstrap': True, 'min_samples_leaf': 3, 'min_samples_split': 10, 'criterion': 'entropy', 'max_features': 3, 'max_depth': None}\n",
      "\n"
     ]
    }
   ],
   "source": [
    "from sklearn.ensemble import RandomForestClassifier\n",
    "rf = RandomForestClassifier(n_estimators=100)\n",
    "from sklearn.grid_search import GridSearchCV\n",
    "param_grid = {\"max_depth\": [1, 3, 6, None],\n",
    "              \"max_features\": [1, 3, 6, 10],\n",
    "              \"min_samples_split\": [1, 3, 6, 10, 15],\n",
    "              \"min_samples_leaf\": [1, 3, 10],\n",
    "              \"bootstrap\": [True, False],\n",
    "              \"criterion\": [\"gini\", \"entropy\"]}\n",
    "\n",
    "grid_search = GridSearchCV(rf, param_grid=param_grid)\n",
    "grid_search.fit(train_data[features], train_data[\"Survived\"])\n",
    "report(grid_search.grid_scores_)"
   ]
  },
  {
   "cell_type": "code",
   "execution_count": 273,
   "metadata": {
    "collapsed": false
   },
   "outputs": [
    {
     "name": "stdout",
     "output_type": "stream",
     "text": [
      "Accuracy: 0.85 (+/- 0.08)\n"
     ]
    }
   ],
   "source": [
    "from sklearn import metrics\n",
    "from sklearn import cross_validation\n",
    "rf_best = RandomForestClassifier(bootstrap = True,\n",
    "                                 min_samples_leaf= 3, \n",
    "                                 min_samples_split=3, \n",
    "                                 criterion='entropy', \n",
    "                                 max_features= 3, \n",
    "                                 max_depth=None)\n",
    "rf_best_scores = cross_validation.cross_val_score(rf_best, train_data[features], train_data[\"Survived\"], cv=10)\n",
    "print(\"Accuracy: %0.2f (+/- %0.2f)\" % (rf_best_scores.mean(), rf_best_scores.std() * 2))"
   ]
  },
  {
   "cell_type": "code",
   "execution_count": 274,
   "metadata": {
    "collapsed": false
   },
   "outputs": [],
   "source": [
    "rf_best.fit(train_data[features],train_data[\"Survived\"])\n",
    "test_predictions = rf_best.predict(test_data[features])"
   ]
  },
  {
   "cell_type": "code",
   "execution_count": 275,
   "metadata": {
    "collapsed": false
   },
   "outputs": [],
   "source": [
    "import csv as csv\n",
    "predictions_file = open(\"rf_new.csv\", \"wb\")\n",
    "open_file_object = csv.writer(predictions_file)\n",
    "open_file_object.writerow([\"PassengerId\",\"Survived\"])\n",
    "open_file_object.writerows(zip(test_data[\"PassengerId\"].values, test_predictions.astype(int)))\n",
    "predictions_file.close()"
   ]
  },
  {
   "cell_type": "code",
   "execution_count": null,
   "metadata": {
    "collapsed": true
   },
   "outputs": [],
   "source": []
  }
 ],
 "metadata": {
  "kernelspec": {
   "display_name": "Python 2",
   "language": "python",
   "name": "python2"
  },
  "language_info": {
   "codemirror_mode": {
    "name": "ipython",
    "version": 2
   },
   "file_extension": ".py",
   "mimetype": "text/x-python",
   "name": "python",
   "nbconvert_exporter": "python",
   "pygments_lexer": "ipython2",
   "version": "2.7.10"
  }
 },
 "nbformat": 4,
 "nbformat_minor": 0
}
